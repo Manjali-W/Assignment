{
 "cells": [
  {
   "cell_type": "markdown",
   "id": "6cd3a417-97f5-4b84-8322-465d28c93de9",
   "metadata": {},
   "source": [
    "<H1> My Jupyter Notebook on IBM Watson Studio<h1>"
   ]
  },
  {
   "cell_type": "markdown",
   "id": "8f59b5a1-e0d0-494f-bcd8-d374d19b5178",
   "metadata": {},
   "source": [
    "**Manjali Weerasekara**\n",
    "\n",
    "Electrical Enginner"
   ]
  },
  {
   "cell_type": "markdown",
   "id": "697f2362-d1d3-4329-b850-5e068ee9ad45",
   "metadata": {},
   "source": [
    "*I am interested in Data Science because it is very valuble andimportant subject to learn*"
   ]
  },
  {
   "cell_type": "markdown",
   "id": "b27be9fe-74d1-41bf-b038-e488f21ea42a",
   "metadata": {},
   "source": [
    "<h3>Follwing code will multiply 2 into 5<h3>"
   ]
  },
  {
   "cell_type": "code",
   "execution_count": 14,
   "id": "af07380a-c029-45be-a312-c3d7df6c408c",
   "metadata": {},
   "outputs": [
    {
     "data": {
      "text/plain": [
       "10"
      ]
     },
     "execution_count": 14,
     "metadata": {},
     "output_type": "execute_result"
    }
   ],
   "source": [
    "2*5"
   ]
  },
  {
   "cell_type": "markdown",
   "id": "ecc410c0-b5b8-4b58-8983-cd1cf579f5b3",
   "metadata": {},
   "source": [
    "***\n",
    "this is important assignment\n",
    "***"
   ]
  },
  {
   "cell_type": "code",
   "execution_count": null,
   "id": "609f428c-ef52-4d07-a6db-9078c9723906",
   "metadata": {},
   "outputs": [],
   "source": []
  }
 ],
 "metadata": {
  "kernelspec": {
   "display_name": "Python",
   "language": "python",
   "name": "conda-env-python-py"
  },
  "language_info": {
   "codemirror_mode": {
    "name": "ipython",
    "version": 3
   },
   "file_extension": ".py",
   "mimetype": "text/x-python",
   "name": "python",
   "nbconvert_exporter": "python",
   "pygments_lexer": "ipython3",
   "version": "3.7.12"
  }
 },
 "nbformat": 4,
 "nbformat_minor": 5
}
